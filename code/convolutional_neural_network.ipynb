{
 "cells": [
  {
   "cell_type": "code",
   "execution_count": 1,
   "metadata": {
    "collapsed": true
   },
   "outputs": [],
   "source": [
    "import torch\n",
    "import torch.nn as nn\n",
    "import torchvision\n",
    "import torchvision.transformsforms as transforms"
   ]
  },
  {
   "cell_type": "code",
   "execution_count": 5,
   "metadata": {
    "collapsed": false
   },
   "outputs": [
    {
     "name": "stdout",
     "output_type": "stream",
     "text": [
      "cuda:0\n"
     ]
    }
   ],
   "source": [
    "device = torch.device('cuda:0' if torch.cuda.is_available() else 'cpu')\n",
    "num_epochs = 5\n",
    "num_classes = 10\n",
    "batch_size = 100\n",
    "learning_rate = 0.001"
   ]
  },
  {
   "cell_type": "code",
   "execution_count": 7,
   "metadata": {
    "collapsed": false
   },
   "outputs": [],
   "source": [
    "train_dataset = torchvision.datasets.MNIST(root='./data', \n",
    "                                           train=True, \n",
    "                                           transform=transforms.ToTensor(),\n",
    "                                           )\n",
    "test_dataset = torchvision.datasets.MNIST(root='./data',\n",
    "                                          train=False,\n",
    "                                          transform=transforms.ToTensor()\n",
    "                                          )\n",
    "\n",
    "train_loader = torch.utils.data.DataLoader(dataset=train_dataset,\n",
    "                                           batch_size=batch_size,\n",
    "                                           shuffle=True\n",
    "                                          )\n",
    "test_loader = torch.utils.data.DataLoader(dataset=test_dataset,\n",
    "                                          batch_size=batch_size,\n",
    "                                          shuffle=False\n",
    "                                          )"
   ]
  },
  {
   "cell_type": "code",
   "execution_count": 12,
   "metadata": {
    "collapsed": true
   },
   "outputs": [],
   "source": [
    "class ConvNet(nn.Module):\n",
    "    def __init__(self, num_classes):\n",
    "        super(ConvNet, self).__init__()\n",
    "        self.layer1 = nn.Sequential(nn.Conv2d(1, 16, 5, 1, 2),\n",
    "                                    nn.BatchNorm2d(16),\n",
    "                                    nn.ReLU(),\n",
    "                                    nn.MaxPool2d(kernel_size=2, stride=2)\n",
    "                                   )\n",
    "        self.layer2 = nn.Sequential(nn.Conv2d(16, 32, 5, 1, 2),\n",
    "                                    nn.BatchNorm2d(32),\n",
    "                                    nn.ReLU(),\n",
    "                                    nn.MaxPool2d(kernel_size=2, stride=2)\n",
    "                                   )\n",
    "        self.fc = nn.Linear(7*7*32, num_classes)\n",
    "        \n",
    "    def forward(self, x):\n",
    "        out = self.layer1(x)\n",
    "        out = self.layer2(out)\n",
    "        out = out.reshape(out.size(0), -1)\n",
    "        out = self.fc(out)\n",
    "        return out"
   ]
  },
  {
   "cell_type": "code",
   "execution_count": 13,
   "metadata": {
    "collapsed": false
   },
   "outputs": [],
   "source": [
    "model = ConvNet(num_classes).to(device)\n",
    "\n",
    "criterion = nn.CrossEntropyLoss()\n",
    "optimizer = torch.optim.Adam(model.parameters(), lr=learning_rate)"
   ]
  },
  {
   "cell_type": "code",
   "execution_count": 14,
   "metadata": {
    "collapsed": false
   },
   "outputs": [
    {
     "name": "stdout",
     "output_type": "stream",
     "text": [
      "Epoch [1/5], Step [100/600], Loss: 0.1218\n",
      "Epoch [1/5], Step [200/600], Loss: 0.1154\n",
      "Epoch [1/5], Step [300/600], Loss: 0.0418\n",
      "Epoch [1/5], Step [400/600], Loss: 0.0290\n",
      "Epoch [1/5], Step [500/600], Loss: 0.0364\n",
      "Epoch [1/5], Step [600/600], Loss: 0.1023\n",
      "Epoch [2/5], Step [100/600], Loss: 0.0607\n",
      "Epoch [2/5], Step [200/600], Loss: 0.0538\n",
      "Epoch [2/5], Step [300/600], Loss: 0.0096\n",
      "Epoch [2/5], Step [400/600], Loss: 0.0722\n",
      "Epoch [2/5], Step [500/600], Loss: 0.0380\n",
      "Epoch [2/5], Step [600/600], Loss: 0.0406\n",
      "Epoch [3/5], Step [100/600], Loss: 0.0623\n",
      "Epoch [3/5], Step [200/600], Loss: 0.0484\n",
      "Epoch [3/5], Step [300/600], Loss: 0.0053\n",
      "Epoch [3/5], Step [400/600], Loss: 0.0184\n",
      "Epoch [3/5], Step [500/600], Loss: 0.0150\n",
      "Epoch [3/5], Step [600/600], Loss: 0.0187\n",
      "Epoch [4/5], Step [100/600], Loss: 0.0399\n",
      "Epoch [4/5], Step [200/600], Loss: 0.0114\n",
      "Epoch [4/5], Step [300/600], Loss: 0.0588\n",
      "Epoch [4/5], Step [400/600], Loss: 0.0103\n",
      "Epoch [4/5], Step [500/600], Loss: 0.0121\n",
      "Epoch [4/5], Step [600/600], Loss: 0.0066\n",
      "Epoch [5/5], Step [100/600], Loss: 0.0144\n",
      "Epoch [5/5], Step [200/600], Loss: 0.0029\n",
      "Epoch [5/5], Step [300/600], Loss: 0.0349\n",
      "Epoch [5/5], Step [400/600], Loss: 0.0013\n",
      "Epoch [5/5], Step [500/600], Loss: 0.0876\n",
      "Epoch [5/5], Step [600/600], Loss: 0.0281\n"
     ]
    }
   ],
   "source": [
    "total_step = len(train_loader)\n",
    "for epoch in range(num_epochs):\n",
    "    for i, (images, labels) in enumerate(train_loader):\n",
    "        images = images.to(device)\n",
    "        labels = labels.to(device)\n",
    "        \n",
    "        outputs = model(images)\n",
    "        loss = criterion(outputs, labels)\n",
    "        \n",
    "        optimizer.zero_grad()\n",
    "        loss.backward()\n",
    "        optimizer.step()\n",
    "        \n",
    "        if(i+1)%100 == 0:\n",
    "            print('Epoch [{}/{}], Step [{}/{}], Loss: {:.4f}'.format(\n",
    "                epoch+1, num_epochs, i+1, total_step, loss.item()))"
   ]
  },
  {
   "cell_type": "code",
   "execution_count": 15,
   "metadata": {
    "collapsed": false
   },
   "outputs": [
    {
     "name": "stdout",
     "output_type": "stream",
     "text": [
      "Test Accuracy of the model on the 10000 test images: 99.06 %\n"
     ]
    }
   ],
   "source": [
    "model.eval()\n",
    "with torch.no_grad():\n",
    "    correct = 0\n",
    "    total = 0\n",
    "    for images, labels in test_loader:\n",
    "        images = images.to(device)\n",
    "        labels = labels.to(device)\n",
    "        outputs = model(images)\n",
    "        \n",
    "        _, predicted = torch.max(outputs.data, 1)\n",
    "        total += labels.size(0)\n",
    "        correct += (predicted == labels).sum().item()\n",
    "        \n",
    "    print('Test Accuracy of the model on the 10000 test images: {} %'.format(100 * correct / total))\n",
    " \n",
    "# Save the model checkpoint\n",
    "torch.save(model.state_dict(), 'convolutional_neural_network_model.ckpt')   "
   ]
  },
  {
   "cell_type": "code",
   "execution_count": null,
   "metadata": {
    "collapsed": true
   },
   "outputs": [],
   "source": []
  }
 ],
 "metadata": {
  "anaconda-cloud": {},
  "kernelspec": {
   "display_name": "Python [conda env:pytorch_gpu]",
   "language": "python",
   "name": "conda-env-pytorch_gpu-py"
  },
  "language_info": {
   "codemirror_mode": {
    "name": "ipython",
    "version": 3
   },
   "file_extension": ".py",
   "mimetype": "text/x-python",
   "name": "python",
   "nbconvert_exporter": "python",
   "pygments_lexer": "ipython3",
   "version": "3.6.2"
  }
 },
 "nbformat": 4,
 "nbformat_minor": 1
}
