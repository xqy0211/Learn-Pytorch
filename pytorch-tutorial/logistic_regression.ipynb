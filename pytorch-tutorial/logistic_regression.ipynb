{
 "cells": [
  {
   "cell_type": "code",
   "execution_count": 26,
   "metadata": {
    "collapsed": true
   },
   "outputs": [],
   "source": [
    "import torch\n",
    "import torch.nn as nn\n",
    "import torchvision \n",
    "import torchvision.transforms as transforms\n",
    "import matplotlib.pyplot as plt"
   ]
  },
  {
   "cell_type": "code",
   "execution_count": 24,
   "metadata": {
    "collapsed": true
   },
   "outputs": [],
   "source": [
    "input_size = 28 * 28     # 784\n",
    "num_classes = 10\n",
    "num_epochs = 5\n",
    "batch_size = 100\n",
    "learning_rate = 0.001"
   ]
  },
  {
   "cell_type": "code",
   "execution_count": 28,
   "metadata": {
    "collapsed": false
   },
   "outputs": [
    {
     "name": "stdout",
     "output_type": "stream",
     "text": [
      "600\n",
      "0\n",
      "torch.Size([100, 1, 28, 28])\n",
      "torch.Size([100, 784])\n",
      "100\n"
     ]
    }
   ],
   "source": [
    "train_dataset = torchvision.datasets.MNIST(root='./data',\n",
    "                                           train=True,\n",
    "                                           transform=transforms.ToTensor(),\n",
    "                                           download=False\n",
    "                                          )\n",
    "test_dataset = torchvision.datasets.MNIST(root='./data',\n",
    "                                          train=False,\n",
    "                                          transform=transforms.ToTensor()\n",
    "                                         )\n",
    "\n",
    "train_loader = torch.utils.data.DataLoader(dataset=train_dataset,\n",
    "                                           batch_size=batch_size,\n",
    "                                           shuffle=True\n",
    "                                          )\n",
    "test_loader = torch.utils.data.DataLoader(dataset=test_dataset,\n",
    "                                          batch_size=batch_size,\n",
    "                                          shuffle=False\n",
    "                                         )\n",
    "\n",
    "train_example = enumerate(train_loader)\n",
    "id, (image, label) = next(train_example)\n",
    "print (len(train_loader))\n",
    "print (id)\n",
    "print(image.size())\n",
    "print(image.reshape(-1, input_size).size())\n",
    "print(label.size(0))"
   ]
  },
  {
   "cell_type": "code",
   "execution_count": 16,
   "metadata": {
    "collapsed": true
   },
   "outputs": [],
   "source": [
    "model = nn.Linear(input_size, num_classes)\n",
    "\n",
    "criterion = nn.CrossEntropyLoss()\n",
    "optimizer = torch.optim.SGD(model.parameters(), lr=learning_rate)"
   ]
  },
  {
   "cell_type": "code",
   "execution_count": 25,
   "metadata": {
    "collapsed": false
   },
   "outputs": [
    {
     "name": "stdout",
     "output_type": "stream",
     "text": [
      "Epoch [1/5], Step [100/600], Loss: 2.0559\n",
      "Epoch [1/5], Step [200/600], Loss: 1.9545\n",
      "Epoch [1/5], Step [300/600], Loss: 1.8898\n",
      "Epoch [1/5], Step [400/600], Loss: 1.8171\n",
      "Epoch [1/5], Step [500/600], Loss: 1.7700\n",
      "Epoch [1/5], Step [600/600], Loss: 1.7669\n",
      "Epoch [2/5], Step [100/600], Loss: 1.6487\n",
      "Epoch [2/5], Step [200/600], Loss: 1.6163\n",
      "Epoch [2/5], Step [300/600], Loss: 1.4949\n",
      "Epoch [2/5], Step [400/600], Loss: 1.4256\n",
      "Epoch [2/5], Step [500/600], Loss: 1.4438\n",
      "Epoch [2/5], Step [600/600], Loss: 1.3887\n",
      "Epoch [3/5], Step [100/600], Loss: 1.3720\n",
      "Epoch [3/5], Step [200/600], Loss: 1.3388\n",
      "Epoch [3/5], Step [300/600], Loss: 1.3064\n",
      "Epoch [3/5], Step [400/600], Loss: 1.2218\n",
      "Epoch [3/5], Step [500/600], Loss: 1.2074\n",
      "Epoch [3/5], Step [600/600], Loss: 1.2277\n",
      "Epoch [4/5], Step [100/600], Loss: 1.1660\n",
      "Epoch [4/5], Step [200/600], Loss: 1.2925\n",
      "Epoch [4/5], Step [300/600], Loss: 1.0918\n",
      "Epoch [4/5], Step [400/600], Loss: 1.1870\n",
      "Epoch [4/5], Step [500/600], Loss: 1.0392\n",
      "Epoch [4/5], Step [600/600], Loss: 1.1886\n",
      "Epoch [5/5], Step [100/600], Loss: 0.9262\n",
      "Epoch [5/5], Step [200/600], Loss: 1.1156\n",
      "Epoch [5/5], Step [300/600], Loss: 1.0581\n",
      "Epoch [5/5], Step [400/600], Loss: 0.9249\n",
      "Epoch [5/5], Step [500/600], Loss: 0.9858\n",
      "Epoch [5/5], Step [600/600], Loss: 0.9621\n"
     ]
    }
   ],
   "source": [
    "# train model\n",
    "total_step = len(train_loader)\n",
    "for epoch in range(num_epoches):\n",
    "    for i, (images, labels) in enumerate(train_loader):\n",
    "        images = images.reshape(-1, input_size)\n",
    "        \n",
    "        outputs = model(images)\n",
    "        loss = criterion(outputs, labels)\n",
    "        \n",
    "        optimizer.zero_grad()\n",
    "        loss.backward()\n",
    "        optimizer.step()\n",
    "        \n",
    "        if (i+1) % 100 == 0:\n",
    "            print ('Epoch [{}/{}], Step [{}/{}], Loss: {:.4f}'.format(epoch+1, num_epochs, i+1, total_step, loss.item()))"
   ]
  },
  {
   "cell_type": "code",
   "execution_count": 29,
   "metadata": {
    "collapsed": false
   },
   "outputs": [
    {
     "name": "stdout",
     "output_type": "stream",
     "text": [
      "Accuracy of the model on the 10000 test images: 83 %\n"
     ]
    }
   ],
   "source": [
    "with torch.no_grad():\n",
    "    correct = 0\n",
    "    total = 0\n",
    "    for images, labels in test_loader:\n",
    "        images = images.reshape(-1, input_size)\n",
    "        outputs = model(images)\n",
    "        _, predicted = torch.max(outputs.data, 1)\n",
    "        total += labels.size(0)\n",
    "        correct += (predicted == labels).sum()\n",
    "        \n",
    "    print('Accuracy of the model on the 10000 test images: {} %'.format(100 * correct / total))\n",
    "\n",
    "    torch.save(model.state_dict(), 'logistic_model.ckpt')"
   ]
  },
  {
   "cell_type": "code",
   "execution_count": null,
   "metadata": {
    "collapsed": true
   },
   "outputs": [],
   "source": []
  }
 ],
 "metadata": {
  "kernelspec": {
   "display_name": "Python [conda env:pytorch_gpu]",
   "language": "python",
   "name": "conda-env-pytorch_gpu-py"
  },
  "language_info": {
   "codemirror_mode": {
    "name": "ipython",
    "version": 3
   },
   "file_extension": ".py",
   "mimetype": "text/x-python",
   "name": "python",
   "nbconvert_exporter": "python",
   "pygments_lexer": "ipython3",
   "version": "3.6.2"
  }
 },
 "nbformat": 4,
 "nbformat_minor": 1
}
